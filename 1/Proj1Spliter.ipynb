{
 "cells": [
  {
   "cell_type": "code",
   "execution_count": 19,
   "metadata": {},
   "outputs": [],
   "source": [
    "# import pandas as pd\n",
    "import pickle\n",
    "import warnings\n",
    "import tensorflow as tf\n",
    "from tensorflow.keras.models import load_model\n",
    "import numpy as np\n",
    "from sklearn.model_selection import train_test_split\n",
    "warnings.filterwarnings(\"ignore\")\n",
    "kinds = ['A','B','C']\n",
    "groups = ['ticker','trades','book']\n",
    "\n",
    "Testtime = (int)(np.floor((1-0.1)*1498))\n",
    "\n",
    "i = 1\n",
    "model = tf.keras.models.load_model(str(5*(i+1))+'finalized_model.model')\n",
    "\n",
    "for group in groups:\n",
    "    for kind in kinds:\n",
    "        # load data\n",
    "        dataset = pd.read_csv('' + kind +'_'+ group + '.csv')\n",
    "        values = dataset.values\n",
    "        dataset = dataset .iloc[1:]\n",
    "        dataset  = np.array(dataset )      \n",
    "        Train = pd.DataFrame(dataset[0:Testtime,:])\n",
    "        Test  = pd.DataFrame(dataset[Testtime:-1,:])\n",
    "        Train.to_csv('Train_' + kind +'_'+ group + '.csv')\n",
    "        Test.to_csv('Test_' + kind +'_'+ group + '.csv')\n",
    "        #test_X = Test[:,:480]\n",
    "        #prediction = model.predict(test_X.reshape((test_X.shape[0], 60,8)))\n",
    "        #print(prediction)\n",
    "\n",
    "\n"
   ]
  },
  {
   "cell_type": "code",
   "execution_count": null,
   "metadata": {},
   "outputs": [],
   "source": []
  }
 ],
 "metadata": {
  "kernelspec": {
   "display_name": "Python 3",
   "language": "python",
   "name": "python3"
  },
  "language_info": {
   "codemirror_mode": {
    "name": "ipython",
    "version": 3
   },
   "file_extension": ".py",
   "mimetype": "text/x-python",
   "name": "python",
   "nbconvert_exporter": "python",
   "pygments_lexer": "ipython3",
   "version": "3.7.1"
  }
 },
 "nbformat": 4,
 "nbformat_minor": 2
}
