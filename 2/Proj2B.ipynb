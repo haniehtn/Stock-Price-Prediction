{
 "cells": [
  {
   "cell_type": "code",
   "execution_count": 9,
   "metadata": {},
   "outputs": [
    {
     "data": {
      "text/html": [
       "<div>\n",
       "<style scoped>\n",
       "    .dataframe tbody tr th:only-of-type {\n",
       "        vertical-align: middle;\n",
       "    }\n",
       "\n",
       "    .dataframe tbody tr th {\n",
       "        vertical-align: top;\n",
       "    }\n",
       "\n",
       "    .dataframe thead th {\n",
       "        text-align: right;\n",
       "    }\n",
       "</style>\n",
       "<table border=\"1\" class=\"dataframe\">\n",
       "  <thead>\n",
       "    <tr style=\"text-align: right;\">\n",
       "      <th></th>\n",
       "      <th>First</th>\n",
       "      <th>High</th>\n",
       "      <th>Low</th>\n",
       "      <th>Close</th>\n",
       "      <th>Value</th>\n",
       "      <th>Vol</th>\n",
       "      <th>Openint</th>\n",
       "      <th>Open</th>\n",
       "      <th>Last</th>\n",
       "    </tr>\n",
       "    <tr>\n",
       "      <th>Date</th>\n",
       "      <th></th>\n",
       "      <th></th>\n",
       "      <th></th>\n",
       "      <th></th>\n",
       "      <th></th>\n",
       "      <th></th>\n",
       "      <th></th>\n",
       "      <th></th>\n",
       "      <th></th>\n",
       "    </tr>\n",
       "  </thead>\n",
       "  <tbody>\n",
       "    <tr>\n",
       "      <th>20180207</th>\n",
       "      <td>1519</td>\n",
       "      <td>1529</td>\n",
       "      <td>1491</td>\n",
       "      <td>1500</td>\n",
       "      <td>1.500659e+08</td>\n",
       "      <td>99580</td>\n",
       "      <td>37</td>\n",
       "      <td>1499.0</td>\n",
       "      <td>1503</td>\n",
       "    </tr>\n",
       "    <tr>\n",
       "      <th>20180206</th>\n",
       "      <td>1492</td>\n",
       "      <td>1515</td>\n",
       "      <td>1492</td>\n",
       "      <td>1499</td>\n",
       "      <td>1.596254e+09</td>\n",
       "      <td>1064598</td>\n",
       "      <td>109</td>\n",
       "      <td>1499.0</td>\n",
       "      <td>1500</td>\n",
       "    </tr>\n",
       "    <tr>\n",
       "      <th>20180205</th>\n",
       "      <td>1498</td>\n",
       "      <td>1510</td>\n",
       "      <td>1491</td>\n",
       "      <td>1499</td>\n",
       "      <td>1.136826e+09</td>\n",
       "      <td>758431</td>\n",
       "      <td>97</td>\n",
       "      <td>1492.0</td>\n",
       "      <td>1510</td>\n",
       "    </tr>\n",
       "    <tr>\n",
       "      <th>20180204</th>\n",
       "      <td>1500</td>\n",
       "      <td>1520</td>\n",
       "      <td>1470</td>\n",
       "      <td>1492</td>\n",
       "      <td>1.016575e+09</td>\n",
       "      <td>684107</td>\n",
       "      <td>127</td>\n",
       "      <td>1544.0</td>\n",
       "      <td>1470</td>\n",
       "    </tr>\n",
       "    <tr>\n",
       "      <th>20180203</th>\n",
       "      <td>1539</td>\n",
       "      <td>1539</td>\n",
       "      <td>1507</td>\n",
       "      <td>1544</td>\n",
       "      <td>3.793357e+08</td>\n",
       "      <td>250068</td>\n",
       "      <td>46</td>\n",
       "      <td>1557.0</td>\n",
       "      <td>1538</td>\n",
       "    </tr>\n",
       "  </tbody>\n",
       "</table>\n",
       "</div>"
      ],
      "text/plain": [
       "          First  High   Low  Close         Value      Vol  Openint    Open  \\\n",
       "Date                                                                         \n",
       "20180207   1519  1529  1491   1500  1.500659e+08    99580       37  1499.0   \n",
       "20180206   1492  1515  1492   1499  1.596254e+09  1064598      109  1499.0   \n",
       "20180205   1498  1510  1491   1499  1.136826e+09   758431       97  1492.0   \n",
       "20180204   1500  1520  1470   1492  1.016575e+09   684107      127  1544.0   \n",
       "20180203   1539  1539  1507   1544  3.793357e+08   250068       46  1557.0   \n",
       "\n",
       "          Last  \n",
       "Date            \n",
       "20180207  1503  \n",
       "20180206  1500  \n",
       "20180205  1510  \n",
       "20180204  1470  \n",
       "20180203  1538  "
      ]
     },
     "metadata": {},
     "output_type": "display_data"
    }
   ],
   "source": [
    "from pandas import read_csv\n",
    "import datetime\n",
    "from pandas import Series, DataFrame\n",
    "# load data\n",
    "dataset = read_csv('B.csv')\n",
    "# manually specify column names\n",
    "dataset.columns = ['Date','First', 'High','Low', 'Close', 'Value', 'Vol', 'Openint', 'Per','Open','Last']\n",
    "dataset.index = dataset['Date']\n",
    "dataset.drop('Date', axis=1, inplace=True)\n",
    "dataset.drop('Per', axis=1, inplace=True)\n",
    "dataset = dataset[dataset > 0]\n",
    "# drop the first 24 hours\n",
    "dataset = dataset[(24*12):]\n",
    "# summarize first 5 rows\n",
    "display(dataset.head(5))\n",
    "# save to file\n",
    "dataset.to_csv('B copy.csv')"
   ]
  },
  {
   "cell_type": "code",
   "execution_count": 10,
   "metadata": {},
   "outputs": [],
   "source": [
    "import numpy as np\n",
    "import pandas as pd\n",
    "import math\n",
    "from sklearn.preprocessing import scale\n",
    "dataset = read_csv('B copy.csv', header=0, index_col=0)\n",
    "df = pd.DataFrame(dataset)\n",
    "dfreg = df.loc[:,['Last','Vol']]\n",
    "dfreg['HL_PCT'] = (df['High'] - df['Low']) / df['Close'] * 100.0\n",
    "dfreg['PCT_change'] = (df['Close'] - df['Open']) / df['Open'] * 100.0\n",
    "# Drop missing value\n",
    "dfreg.fillna(value=-99999, inplace=True)\n",
    "# We want to separate 1 percent of the data to forecast\n",
    "forecast_out = int(math.ceil(0.01 * len(dfreg)))\n",
    "# Separating the label here, we want to predict the AdjClose\n",
    "forecast_col = 'Last'\n",
    "dfreg['label'] = dfreg[forecast_col].shift(-forecast_out)\n",
    "X = np.array(dfreg.drop(['label'], 1))\n",
    "# Scale the X so that everyone can have the same distribution for linear regression\n",
    "X = scale(X)\n",
    "# Finally We want to find Data Series of late X and early X (train) for model generation and evaluation\n",
    "X_lately = X[-forecast_out:]\n",
    "X = X[:-forecast_out]\n",
    "# Separate label and identify it as y\n",
    "y = np.array(dfreg['label'])\n",
    "y = y[:-forecast_out]\n",
    "from sklearn.model_selection import train_test_split\n",
    "train_X, test_X, train_y, test_y = train_test_split(X, y, test_size = 0.33, random_state = 42)"
   ]
  },
  {
   "cell_type": "code",
   "execution_count": 11,
   "metadata": {},
   "outputs": [
    {
     "data": {
      "text/plain": [
       "['qdaModel.pkl']"
      ]
     },
     "execution_count": 11,
     "metadata": {},
     "output_type": "execute_result"
    }
   ],
   "source": [
    "from sklearn.linear_model import LinearRegression\n",
    "from sklearn.neighbors import KNeighborsRegressor\n",
    "import tensorflow as tf\n",
    "from sklearn.linear_model import Ridge\n",
    "from sklearn.preprocessing import PolynomialFeatures\n",
    "from sklearn.pipeline import make_pipeline\n",
    "from sklearn.metrics import confusion_matrix\n",
    "from sklearn.metrics import zero_one_loss\n",
    "from sklearn.externals import joblib\n",
    "# Linear regression\n",
    "clfreg = LinearRegression(n_jobs=-1)\n",
    "clfreg.fit(train_X, train_y)\n",
    "\n",
    "# Quadratic Regression 2\n",
    "clfpoly2 = make_pipeline(PolynomialFeatures(2), Ridge())\n",
    "clfpoly2.fit(train_X, train_y)\n",
    "y_predq = clfpoly2.predict(test_X)\n",
    "\n",
    "# Quadratic Regression 3\n",
    "clfpoly3 = make_pipeline(PolynomialFeatures(3), Ridge())\n",
    "clfpoly3.fit(train_X, train_y)\n",
    "joblib.dump(clfpoly3, \"qdaModel.pkl\")"
   ]
  },
  {
   "cell_type": "code",
   "execution_count": 12,
   "metadata": {},
   "outputs": [
    {
     "name": "stdout",
     "output_type": "stream",
     "text": [
      "regression score: 0.7800711737919463\n",
      "qda with 2 features score: 0.7744638963589257\n",
      "qda with 3 features score: -3.671166606342145\n"
     ]
    }
   ],
   "source": [
    "confidencereg = clfreg.score(test_X, test_y)\n",
    "confidencepoly2 = clfpoly2.score(test_X, test_y)\n",
    "confidencepoly3 = clfpoly3.score(test_X, test_y)\n",
    "print(\"regression score: \"+str(confidencereg))\n",
    "print(\"qda with 2 features score: \"+str(confidencepoly2))\n",
    "print(\"qda with 3 features score: \"+str(confidencepoly3))"
   ]
  },
  {
   "cell_type": "code",
   "execution_count": 13,
   "metadata": {},
   "outputs": [
    {
     "data": {
      "image/png": "[encoded data removed]",
      "text/plain": [
       "<Figure size 432x288 with 1 Axes>"
      ]
     },
     "metadata": {
      "needs_background": "light"
     },
     "output_type": "display_data"
    },
    {
     "name": "stdout",
     "output_type": "stream",
     "text": [
      "LinearRegression(copy_X=True, fit_intercept=True, n_jobs=-1, normalize=False)\n"
     ]
    },
    {
     "data": {
      "image/png": "[encoded data removed]",
      "text/plain": [
       "<Figure size 432x288 with 1 Axes>"
      ]
     },
     "metadata": {
      "needs_background": "light"
     },
     "output_type": "display_data"
    },
    {
     "name": "stdout",
     "output_type": "stream",
     "text": [
      "Pipeline(memory=None,\n",
      "     steps=[('polynomialfeatures', PolynomialFeatures(degree=2, include_bias=True, interaction_only=False)), ('ridge', Ridge(alpha=1.0, copy_X=True, fit_intercept=True, max_iter=None,\n",
      "   normalize=False, random_state=None, solver='auto', tol=0.001))])\n"
     ]
    },
    {
     "data": {
      "image/png": "[encoded data removed]",
      "text/plain": [
       "<Figure size 432x288 with 1 Axes>"
      ]
     },
     "metadata": {
      "needs_background": "light"
     },
     "output_type": "display_data"
    },
    {
     "name": "stdout",
     "output_type": "stream",
     "text": [
      "Pipeline(memory=None,\n",
      "     steps=[('polynomialfeatures', PolynomialFeatures(degree=3, include_bias=True, interaction_only=False)), ('ridge', Ridge(alpha=1.0, copy_X=True, fit_intercept=True, max_iter=None,\n",
      "   normalize=False, random_state=None, solver='auto', tol=0.001))])\n"
     ]
    }
   ],
   "source": [
    "from datetime import datetime, timedelta\n",
    "import matplotlib.pyplot as plt\n",
    "from sklearn.metrics import mean_squared_error\n",
    "from math import sqrt\n",
    "\n",
    "#y_pred= clfpoly3.predict(test_X)\n",
    "#rmse = sqrt(mean_squared_error(test_y, y_pred))\n",
    "#print (\"rmse= \"+str(rmse))\n",
    "\n",
    "\n",
    "forecast_set = clfpoly3.predict(X_lately)\n",
    "dfreg['Forecast'] = np.nan\n",
    "    \n",
    "s = str(dfreg.iloc[-1].name)\n",
    "last_date = datetime(year=int(s[0:4]), month=int(s[4:6]), day=int(s[6:8]))\n",
    "last_unix = last_date\n",
    "next_unix = last_unix + timedelta(days=1)\n",
    "\n",
    "for i in forecast_set:\n",
    "    next_date = next_unix\n",
    "    next_unix += timedelta(days=1)\n",
    "    dfreg.loc[next_date] = [np.nan for _ in range(len(dfreg.columns)-1)]+[i]\n",
    "        \n",
    "models = [clfreg,clfpoly2,clfpoly3]\n",
    "for model in models:\n",
    "    dfreg['Last'].tail(500).plot()\n",
    "    dfreg['Forecast'].tail(500).plot()\n",
    "    plt.legend(loc=4)\n",
    "    plt.xlabel('Date')\n",
    "    plt.ylabel('Price')\n",
    "    plt.show()\n",
    "    print(str(model))\n",
    "    \n",
    "    "
   ]
  },
  {
   "cell_type": "code",
   "execution_count": null,
   "metadata": {},
   "outputs": [],
   "source": []
  }
 ],
 "metadata": {
  "kernelspec": {
   "display_name": "Python 3",
   "language": "python",
   "name": "python3"
  },
  "language_info": {
   "codemirror_mode": {
    "name": "ipython",
    "version": 3
   },
   "file_extension": ".py",
   "mimetype": "text/x-python",
   "name": "python",
   "nbconvert_exporter": "python",
   "pygments_lexer": "ipython3",
   "version": "3.7.1"
  }
 },
 "nbformat": 4,
 "nbformat_minor": 2
}
