{
 "cells": [
  {
   "cell_type": "code",
   "execution_count": 12,
   "metadata": {},
   "outputs": [
    {
     "data": {
      "text/html": [
       "<div>\n",
       "<style scoped>\n",
       "    .dataframe tbody tr th:only-of-type {\n",
       "        vertical-align: middle;\n",
       "    }\n",
       "\n",
       "    .dataframe tbody tr th {\n",
       "        vertical-align: top;\n",
       "    }\n",
       "\n",
       "    .dataframe thead th {\n",
       "        text-align: right;\n",
       "    }\n",
       "</style>\n",
       "<table border=\"1\" class=\"dataframe\">\n",
       "  <thead>\n",
       "    <tr style=\"text-align: right;\">\n",
       "      <th></th>\n",
       "      <th>First</th>\n",
       "      <th>High</th>\n",
       "      <th>Low</th>\n",
       "      <th>Close</th>\n",
       "      <th>Value</th>\n",
       "      <th>Vol</th>\n",
       "      <th>Openint</th>\n",
       "      <th>Open</th>\n",
       "      <th>Last</th>\n",
       "    </tr>\n",
       "    <tr>\n",
       "      <th>Date</th>\n",
       "      <th></th>\n",
       "      <th></th>\n",
       "      <th></th>\n",
       "      <th></th>\n",
       "      <th></th>\n",
       "      <th></th>\n",
       "      <th></th>\n",
       "      <th></th>\n",
       "      <th></th>\n",
       "    </tr>\n",
       "  </thead>\n",
       "  <tbody>\n",
       "    <tr>\n",
       "      <th>20171107</th>\n",
       "      <td>2944</td>\n",
       "      <td>3049</td>\n",
       "      <td>2870</td>\n",
       "      <td>3008</td>\n",
       "      <td>1.684935e+10</td>\n",
       "      <td>5600743</td>\n",
       "      <td>738</td>\n",
       "      <td>2904.0</td>\n",
       "      <td>3000</td>\n",
       "    </tr>\n",
       "    <tr>\n",
       "      <th>20171106</th>\n",
       "      <td>2949</td>\n",
       "      <td>2969</td>\n",
       "      <td>2860</td>\n",
       "      <td>2904</td>\n",
       "      <td>8.959362e+09</td>\n",
       "      <td>3085333</td>\n",
       "      <td>465</td>\n",
       "      <td>2887.0</td>\n",
       "      <td>2899</td>\n",
       "    </tr>\n",
       "    <tr>\n",
       "      <th>20171105</th>\n",
       "      <td>2879</td>\n",
       "      <td>2890</td>\n",
       "      <td>2850</td>\n",
       "      <td>2887</td>\n",
       "      <td>4.133878e+09</td>\n",
       "      <td>1431912</td>\n",
       "      <td>219</td>\n",
       "      <td>2753.0</td>\n",
       "      <td>2890</td>\n",
       "    </tr>\n",
       "    <tr>\n",
       "      <th>20171104</th>\n",
       "      <td>2760</td>\n",
       "      <td>2820</td>\n",
       "      <td>2663</td>\n",
       "      <td>2753</td>\n",
       "      <td>5.011556e+09</td>\n",
       "      <td>1820537</td>\n",
       "      <td>259</td>\n",
       "      <td>2716.0</td>\n",
       "      <td>2820</td>\n",
       "    </tr>\n",
       "    <tr>\n",
       "      <th>20171101</th>\n",
       "      <td>2770</td>\n",
       "      <td>2770</td>\n",
       "      <td>2695</td>\n",
       "      <td>2716</td>\n",
       "      <td>3.014738e+09</td>\n",
       "      <td>1110081</td>\n",
       "      <td>175</td>\n",
       "      <td>2743.0</td>\n",
       "      <td>2720</td>\n",
       "    </tr>\n",
       "  </tbody>\n",
       "</table>\n",
       "</div>"
      ],
      "text/plain": [
       "          First  High   Low  Close         Value      Vol  Openint    Open  \\\n",
       "Date                                                                         \n",
       "20171107   2944  3049  2870   3008  1.684935e+10  5600743      738  2904.0   \n",
       "20171106   2949  2969  2860   2904  8.959362e+09  3085333      465  2887.0   \n",
       "20171105   2879  2890  2850   2887  4.133878e+09  1431912      219  2753.0   \n",
       "20171104   2760  2820  2663   2753  5.011556e+09  1820537      259  2716.0   \n",
       "20171101   2770  2770  2695   2716  3.014738e+09  1110081      175  2743.0   \n",
       "\n",
       "          Last  \n",
       "Date            \n",
       "20171107  3000  \n",
       "20171106  2899  \n",
       "20171105  2890  \n",
       "20171104  2820  \n",
       "20171101  2720  "
      ]
     },
     "metadata": {},
     "output_type": "display_data"
    }
   ],
   "source": [
    "from pandas import read_csv\n",
    "import datetime\n",
    "from pandas import Series, DataFrame\n",
    "# load data\n",
    "dataset = read_csv('C.csv')\n",
    "# manually specify column names\n",
    "dataset.columns = ['Date','First', 'High','Low', 'Close', 'Value', 'Vol', 'Openint', 'Per','Open','Last']\n",
    "dataset.index = dataset['Date']\n",
    "dataset.drop('Date', axis=1, inplace=True)\n",
    "dataset.drop('Per', axis=1, inplace=True)\n",
    "dataset = dataset[dataset > 0]\n",
    "# drop the first 24 hours\n",
    "dataset = dataset[(24*12):]\n",
    "# summarize first 5 rows\n",
    "display(dataset.head(5))\n",
    "# save to file\n",
    "dataset.to_csv('C copy.csv')"
   ]
  },
  {
   "cell_type": "code",
   "execution_count": 13,
   "metadata": {},
   "outputs": [],
   "source": [
    "import numpy as np\n",
    "import pandas as pd\n",
    "import math\n",
    "from sklearn.preprocessing import scale\n",
    "dataset = read_csv('C copy.csv', header=0, index_col=0)\n",
    "df = pd.DataFrame(dataset)\n",
    "dfreg = df.loc[:,['Last','Vol']]\n",
    "dfreg['HL_PCT'] = (df['High'] - df['Low']) / df['Close'] * 100.0\n",
    "dfreg['PCT_change'] = (df['Close'] - df['Open']) / df['Open'] * 100.0\n",
    "# Drop missing value\n",
    "dfreg.fillna(value=-99999, inplace=True)\n",
    "# We want to separate 1 percent of the data to forecast\n",
    "forecast_out = int(math.ceil(0.01 * len(dfreg)))\n",
    "# Separating the label here, we want to predict the AdjClose\n",
    "forecast_col = 'Last'\n",
    "dfreg['label'] = dfreg[forecast_col].shift(-forecast_out)\n",
    "X = np.array(dfreg.drop(['label'], 1))\n",
    "# Scale the X so that everyone can have the same distribution for linear regression\n",
    "X = scale(X)\n",
    "# Finally We want to find Data Series of late X and early X (train) for model generation and evaluation\n",
    "X_lately = X[-forecast_out:]\n",
    "X = X[:-forecast_out]\n",
    "# Separate label and identify it as y\n",
    "y = np.array(dfreg['label'])\n",
    "y = y[:-forecast_out]\n",
    "from sklearn.model_selection import train_test_split\n",
    "train_X, test_X, train_y, test_y = train_test_split(X, y, test_size = 0.33, random_state = 42)"
   ]
  },
  {
   "cell_type": "code",
   "execution_count": 14,
   "metadata": {},
   "outputs": [
    {
     "data": {
      "text/plain": [
       "['qdaModel.pkl']"
      ]
     },
     "execution_count": 14,
     "metadata": {},
     "output_type": "execute_result"
    }
   ],
   "source": [
    "from sklearn.linear_model import LinearRegression\n",
    "from sklearn.neighbors import KNeighborsRegressor\n",
    "import tensorflow as tf\n",
    "from sklearn.linear_model import Ridge\n",
    "from sklearn.preprocessing import PolynomialFeatures\n",
    "from sklearn.pipeline import make_pipeline\n",
    "from sklearn.metrics import confusion_matrix\n",
    "from sklearn.metrics import zero_one_loss\n",
    "from sklearn.externals import joblib\n",
    "# Linear regression\n",
    "clfreg = LinearRegression(n_jobs=-1)\n",
    "clfreg.fit(train_X, train_y)\n",
    "\n",
    "# Quadratic Regression 2\n",
    "clfpoly2 = make_pipeline(PolynomialFeatures(2), Ridge())\n",
    "clfpoly2.fit(train_X, train_y)\n",
    "y_predq = clfpoly2.predict(test_X)\n",
    "\n",
    "# Quadratic Regression 3\n",
    "clfpoly3 = make_pipeline(PolynomialFeatures(3), Ridge())\n",
    "clfpoly3.fit(train_X, train_y)\n",
    "joblib.dump(clfpoly3, \"qdaModel.pkl\")"
   ]
  },
  {
   "cell_type": "code",
   "execution_count": 15,
   "metadata": {},
   "outputs": [
    {
     "name": "stdout",
     "output_type": "stream",
     "text": [
      "regression score: 0.8294359006366019\n",
      "qda with 2 features score: 0.8390248349348366\n",
      "qda with 3 features score: 0.8058007717173787\n"
     ]
    }
   ],
   "source": [
    "confidencereg = clfreg.score(test_X, test_y)\n",
    "confidencepoly2 = clfpoly2.score(test_X, test_y)\n",
    "confidencepoly3 = clfpoly3.score(test_X, test_y)\n",
    "print(\"regression score: \"+str(confidencereg))\n",
    "print(\"qda with 2 features score: \"+str(confidencepoly2))\n",
    "print(\"qda with 3 features score: \"+str(confidencepoly3))"
   ]
  },
  {
   "cell_type": "code",
   "execution_count": 16,
   "metadata": {},
   "outputs": [
    {
     "data": {
      "image/png": "[encoded data removed]",
      "text/plain": [
       "<Figure size 432x288 with 1 Axes>"
      ]
     },
     "metadata": {
      "needs_background": "light"
     },
     "output_type": "display_data"
    },
    {
     "name": "stdout",
     "output_type": "stream",
     "text": [
      "LinearRegression(copy_X=True, fit_intercept=True, n_jobs=-1, normalize=False)\n"
     ]
    },
    {
     "data": {
      "image/png": "[encoded data removed]",
      "text/plain": [
       "<Figure size 432x288 with 1 Axes>"
      ]
     },
     "metadata": {
      "needs_background": "light"
     },
     "output_type": "display_data"
    },
    {
     "name": "stdout",
     "output_type": "stream",
     "text": [
      "Pipeline(memory=None,\n",
      "     steps=[('polynomialfeatures', PolynomialFeatures(degree=2, include_bias=True, interaction_only=False)), ('ridge', Ridge(alpha=1.0, copy_X=True, fit_intercept=True, max_iter=None,\n",
      "   normalize=False, random_state=None, solver='auto', tol=0.001))])\n"
     ]
    },
    {
     "data": {
      "image/png": "[encoded data removed]",
      "text/plain": [
       "<Figure size 432x288 with 1 Axes>"
      ]
     },
     "metadata": {
      "needs_background": "light"
     },
     "output_type": "display_data"
    },
    {
     "name": "stdout",
     "output_type": "stream",
     "text": [
      "Pipeline(memory=None,\n",
      "     steps=[('polynomialfeatures', PolynomialFeatures(degree=3, include_bias=True, interaction_only=False)), ('ridge', Ridge(alpha=1.0, copy_X=True, fit_intercept=True, max_iter=None,\n",
      "   normalize=False, random_state=None, solver='auto', tol=0.001))])\n"
     ]
    }
   ],
   "source": [
    "from datetime import datetime, timedelta\n",
    "import matplotlib.pyplot as plt\n",
    "from sklearn.metrics import mean_squared_error\n",
    "from math import sqrt\n",
    "\n",
    "#y_pred= clfpoly3.predict(test_X)\n",
    "#rmse = sqrt(mean_squared_error(test_y, y_pred))\n",
    "#print (\"rmse= \"+str(rmse))\n",
    "\n",
    "\n",
    "forecast_set = clfpoly3.predict(X_lately)\n",
    "dfreg['Forecast'] = np.nan\n",
    "    \n",
    "s = str(dfreg.iloc[-1].name)\n",
    "last_date = datetime(year=int(s[0:4]), month=int(s[4:6]), day=int(s[6:8]))\n",
    "last_unix = last_date\n",
    "next_unix = last_unix + timedelta(days=1)\n",
    "\n",
    "for i in forecast_set:\n",
    "    next_date = next_unix\n",
    "    next_unix += timedelta(days=1)\n",
    "    dfreg.loc[next_date] = [np.nan for _ in range(len(dfreg.columns)-1)]+[i]\n",
    "        \n",
    "models = [clfreg,clfpoly2,clfpoly3]\n",
    "for model in models:\n",
    "    dfreg['Last'].tail(500).plot()\n",
    "    dfreg['Forecast'].tail(500).plot()\n",
    "    plt.legend(loc=4)\n",
    "    plt.xlabel('Date')\n",
    "    plt.ylabel('Price')\n",
    "    plt.show()\n",
    "    print(str(model))\n",
    "    \n",
    "    "
   ]
  },
  {
   "cell_type": "code",
   "execution_count": null,
   "metadata": {},
   "outputs": [],
   "source": []
  }
 ],
 "metadata": {
  "kernelspec": {
   "display_name": "Python 3",
   "language": "python",
   "name": "python3"
  },
  "language_info": {
   "codemirror_mode": {
    "name": "ipython",
    "version": 3
   },
   "file_extension": ".py",
   "mimetype": "text/x-python",
   "name": "python",
   "nbconvert_exporter": "python",
   "pygments_lexer": "ipython3",
   "version": "3.7.1"
  }
 },
 "nbformat": 4,
 "nbformat_minor": 2
}
